{
  "cells": [
    {
      "cell_type": "markdown",
      "source": [
        "Task - 1:\n",
        "Create a Python program that converts between different units of measurement.\n",
        "• The program should:\n",
        "1. Prompt the user to choose the type of conversion (e.g., length, weight, volume).\n",
        "2. Ask the user to input the value to be converted.\n",
        "3. Perform the conversion and display the result.\n",
        "4. Handle potential errors, such as invalid input or unsupported conversion types.\n",
        "• Requirements:\n",
        "1. Functions: Define at least one function to perform the conversion.\n",
        "2. Error Handling: Use try-except blocks to handle invalid input (e.g., non-numeric values).\n",
        "3. User Input: Prompt the user to select the conversion type and input the value.\n",
        "4. Docstrings: Include a docstring in your function to describe its purpose, parameters, and\n",
        "return value.\n",
        "• Conversion Options:\n",
        "1. Length:\n",
        "– Convert meters (m) to feet (ft).\n",
        "– Convert feet (ft) to meters (m).\n",
        "2. Weight:\n",
        "– Convert kilograms (kg) to pounds (lbs).\n",
        "– Convert pounds (lbs) to kilograms (kg).\n",
        "3. Volume:\n",
        "– Convert liters (L) to gallons (gal).\n",
        "– Convert gallons (gal) to liters (L)."
      ],
      "metadata": {
        "id": "bBC7sDHGCExG"
      }
    },
    {
      "cell_type": "code",
      "source": [
        "def convert_units(conversion_type, value):\n",
        "    \"\"\"\n",
        "    Converts a given value between different units based on the conversion type.\n",
        "\n",
        "    Args:\n",
        "        conversion_type (str): The type of conversion ('l' for length, 'w' for weight, 'v' for volume).\n",
        "        value (float or int): The numerical value to be converted.\n",
        "\n",
        "    Returns:\n",
        "        str: The converted value with a descriptive message or an error message if input is invalid.\n",
        "    \"\"\"\n",
        "    try:\n",
        "        value = float(value)\n",
        "\n",
        "        if conversion_type == 'l':\n",
        "            print(\"Enter conversion subtype:\")\n",
        "            print(\"1: Meters to Feet\")\n",
        "            print(\"2: Feet to Meters\")\n",
        "            conversion_choice = input(\"Enter 1 or 2: \")\n",
        "\n",
        "            if conversion_choice == \"1\":\n",
        "                result = value * 3.28084\n",
        "                return f\"{value} meters is equal to {result:.2f} feet.\"\n",
        "            elif conversion_choice == \"2\":\n",
        "                result = value / 3.28084\n",
        "                return f\"{value} feet is equal to {result:.2f} meters.\"\n",
        "            else:\n",
        "                return \"Invalid choice for length conversion.\"\n",
        "\n",
        "        elif conversion_type == 'w':\n",
        "            print(\"Enter conversion subtype:\")\n",
        "            print(\"1: Kilograms to Pounds\")\n",
        "            print(\"2: Pounds to Kilograms\")\n",
        "            conversion_choice = input(\"Enter 1 or 2: \")\n",
        "\n",
        "            if conversion_choice == \"1\":\n",
        "                result = value * 2.20462\n",
        "                return f\"{value} kilograms is equal to {result:.2f} pounds.\"\n",
        "            elif conversion_choice == \"2\":\n",
        "                result = value / 2.20462\n",
        "                return f\"{value} pounds is equal to {result:.2f} kilograms.\"\n",
        "            else:\n",
        "                return \"Invalid choice for weight conversion.\"\n",
        "\n",
        "        elif conversion_type == 'v':\n",
        "            print(\"Enter conversion subtype:\")\n",
        "            print(\"1: Liters to Gallons\")\n",
        "            print(\"2: Gallons to Liters\")\n",
        "            conversion_choice = input(\"Enter 1 or 2: \")\n",
        "\n",
        "            if conversion_choice == \"1\":\n",
        "                result = value * 0.264172\n",
        "                return f\"{value} liters is equal to {result:.2f} gallons.\"\n",
        "            elif conversion_choice == \"2\":\n",
        "                result = value / 0.264172\n",
        "                return f\"{value} gallons is equal to {result:.2f} liters.\"\n",
        "            else:\n",
        "                return \"Invalid choice for volume conversion.\"\n",
        "\n",
        "        else:\n",
        "            return \"Invalid conversion type. Enter 'l' for length, 'w' for weight, or 'v' for volume.\"\n",
        "\n",
        "    except ValueError:\n",
        "        return \"Invalid input. Please enter a numeric value.\"\n",
        "\n",
        "if __name__ == \"__main__\":\n",
        "    conversion_type = input(\"Enter the type of conversion (l for length, w for weight, v for volume): \").lower()\n",
        "    value = input(\"Enter the value to be converted: \")\n",
        "    result = convert_units(conversion_type, value)\n",
        "    print(result)"
      ],
      "metadata": {
        "colab": {
          "base_uri": "https://localhost:8080/"
        },
        "id": "jeqWrNkCCYtZ",
        "outputId": "27038c7f-4490-4b1d-c018-9828ad6fc9ae"
      },
      "execution_count": null,
      "outputs": [
        {
          "output_type": "stream",
          "name": "stdout",
          "text": [
            "Enter the type of conversion (length, weight, volume): weight\n",
            "Enter the value to be converted: 55\n",
            "Enter conversion subtype (kg to lbs, or lbs to kg): kg to lbs\n",
            "55.0 kilograms is equal to 121.25 pounds.\n"
          ]
        }
      ]
    },
    {
      "cell_type": "markdown",
      "source": [
        "Create a Python program that performs various mathematical operations on a list of numbers.\n",
        "• The Program should:\n",
        "1. Prompt the user to choose an operation (e.g., find the sum, average, maximum, or minimum\n",
        "of the numbers).\n",
        "2. Ask the user to input a list of numbers (separated by spaces).\n",
        "18\n",
        "6CS012 Worksheet - 0 Siman Giri\n",
        "3. Perform the selected operation and display the result.\n",
        "4. Handle potential errors, such as invalid input or empty lists.\n",
        "• Requirements:\n",
        "1. Functions: Define at least one function for each operation (sum, average, maximum, mini-\n",
        "mum).\n",
        "2. Error Handling: Use try-except blocks to handle invalid input (e.g., non-numeric values or\n",
        "empty lists).\n",
        "3. User Input: Prompt the user to select the operation and input the list of numbers.\n",
        "4. Docstrings: Include a docstring in each function to describe its purpose, parameters, and\n",
        "return value."
      ],
      "metadata": {
        "id": "Nv9uop4qD1EF"
      }
    },
    {
      "cell_type": "code",
      "source": [
        "def get_numbers():\n",
        "    \"\"\"\n",
        "    Prompts the user to input a list of numbers separated by spaces.\n",
        "\n",
        "    Returns:\n",
        "        list: A list of floating-point numbers entered by the user.\n",
        "    \"\"\"\n",
        "    while True:\n",
        "        try:\n",
        "            numbers = input(\"Enter a list of numbers separated by spaces: \").split()\n",
        "            numbers = [float(num) for num in numbers]\n",
        "            if not numbers:\n",
        "                raise ValueError(\"The list cannot be empty.\")\n",
        "            return numbers\n",
        "        except ValueError:\n",
        "            print(\"Invalid input. Please enter only numbers separated by spaces.\")\n",
        "\n",
        "def calculate_sum(numbers):\n",
        "    \"\"\"\n",
        "    Calculates the sum of the given list of numbers.\n",
        "\n",
        "    Args:\n",
        "        numbers (list): A list of numbers.\n",
        "\n",
        "    Returns:\n",
        "        float: The sum of the numbers.\n",
        "    \"\"\"\n",
        "    return sum(numbers)\n",
        "\n",
        "def calculate_average(numbers):\n",
        "    \"\"\"\n",
        "    Calculates the average of the given list of numbers.\n",
        "\n",
        "    Args:\n",
        "        numbers (list): A list of numbers.\n",
        "\n",
        "    Returns:\n",
        "        float: The average of the numbers.\n",
        "    \"\"\"\n",
        "    return sum(numbers) / len(numbers)\n",
        "\n",
        "def find_maximum(numbers):\n",
        "    \"\"\"\n",
        "    Finds the maximum number in the given list.\n",
        "\n",
        "    Args:\n",
        "        numbers (list): A list of numbers.\n",
        "\n",
        "    Returns:\n",
        "        float: The maximum number in the list.\n",
        "    \"\"\"\n",
        "    return max(numbers)\n",
        "\n",
        "def find_minimum(numbers):\n",
        "    \"\"\"\n",
        "    Finds the minimum number in the given list.\n",
        "\n",
        "    Args:\n",
        "        numbers (list): A list of numbers.\n",
        "\n",
        "    Returns:\n",
        "        float: The minimum number in the list.\n",
        "    \"\"\"\n",
        "    return min(numbers)\n",
        "\n",
        "def main():\n",
        "    \"\"\"\n",
        "    Main function to prompt the user for an operation, get the list of numbers,\n",
        "    and display the result of the selected operation.\n",
        "    \"\"\"\n",
        "    operations = {\n",
        "        \"1\": (\"Sum\", calculate_sum),\n",
        "        \"2\": (\"Average\", calculate_average),\n",
        "        \"3\": (\"Maximum\", find_maximum),\n",
        "        \"4\": (\"Minimum\", find_minimum)\n",
        "    }\n",
        "\n",
        "    print(\"Choose an operation:\")\n",
        "    for key, (name, _) in operations.items():\n",
        "        print(f\"{key}: {name}\")\n",
        "\n",
        "    choice = input(\"Enter the number corresponding to your choice: \")\n",
        "\n",
        "    if choice not in operations:\n",
        "        print(\"Invalid choice. Please select a valid option.\")\n",
        "        return\n",
        "\n",
        "    numbers = get_numbers()\n",
        "    operation_name, operation_func = operations[choice]\n",
        "    result = operation_func(numbers)\n",
        "\n",
        "    print(f\"The {operation_name.lower()} of the numbers is: {result:.2f}\")\n",
        "\n",
        "if __name__ == \"__main__\":\n",
        "    main()"
      ],
      "metadata": {
        "colab": {
          "base_uri": "https://localhost:8080/"
        },
        "id": "o1HdmVXlEocL",
        "outputId": "b9da518b-d358-4a80-8155-f464a7e079c6"
      },
      "execution_count": null,
      "outputs": [
        {
          "output_type": "stream",
          "name": "stdout",
          "text": [
            "Choose an operation:\n",
            "1: Sum\n",
            "2: Average\n",
            "3: Maximum\n",
            "4: Minimum\n",
            "Enter the number corresponding to your choice: 1\n",
            "Enter a list of numbers separated by spaces: 1,2,3\n",
            "Invalid input. Please enter only numbers separated by spaces.\n",
            "Enter a list of numbers separated by spaces: 1 2 3 4\n",
            "The sum of the numbers is: 10.00\n"
          ]
        }
      ]
    },
    {
      "cell_type": "markdown",
      "source": [
        "Write a Python function that extracts every other element from a list, starting from the first element.\n",
        "• Requirements:\n",
        "– Define a function extract every other(lst) that takes a list lst as input and returns a\n",
        "new list containing every other element from the original list.\n",
        "– Example: For the input [1, 2, 3, 4, 5, 6], the output should be [1, 3, 5]."
      ],
      "metadata": {
        "id": "wVD7wQ7uFJJr"
      }
    },
    {
      "cell_type": "code",
      "source": [
        "def extract_every_other(lst):\n",
        "    return lst[::2]\n",
        "\n",
        "def get_user_list():\n",
        "    while True:\n",
        "        try:\n",
        "            user_input = input(\"Enter a list of numbers separated by spaces: \").split()\n",
        "            numbers = [float(num) for num in user_input]\n",
        "            if not numbers:\n",
        "                raise ValueError(\"The list cannot be empty.\")\n",
        "            return numbers\n",
        "        except ValueError:\n",
        "            print(\"Invalid input. Please enter only numbers separated by spaces.\")\n",
        "\n",
        "\n",
        "user_list = get_user_list()\n",
        "result = extract_every_other(user_list)\n",
        "print(\"Every other element:\", result)"
      ],
      "metadata": {
        "id": "5RXC_9A6FJ7H"
      },
      "execution_count": null,
      "outputs": []
    },
    {
      "cell_type": "markdown",
      "source": [
        "Write a Python function that returns a sublist from a given list, starting from a specified index and\n",
        "ending at another specified index.\n",
        "• Requirements:\n",
        "– Define a function get sublist(lst, start, end) that takes a list lst, a starting index\n",
        "start, and an ending index end as input and returns the sublist from start to end (inclusive).\n",
        "– Example: For the input [1, 2, 3, 4, 5, 6] with start=2 and end=4, the output should\n",
        "be [3, 4, 5]."
      ],
      "metadata": {
        "id": "zgnk2rc4F63t"
      }
    },
    {
      "cell_type": "code",
      "source": [
        "def get_sublist(lst, start, end):\n",
        "    return lst[start:end + 1]\n",
        "\n",
        "def get_user_list():\n",
        "    while True:\n",
        "        try:\n",
        "            user_input = input(\"Enter a list of numbers separated by spaces: \").split()\n",
        "            numbers = [float(num) for num in user_input]\n",
        "            if not numbers:\n",
        "                raise ValueError(\"The list cannot be empty.\")\n",
        "            return numbers\n",
        "        except ValueError:\n",
        "            print(\"Invalid input. Please enter only numbers separated by spaces.\")\n",
        "\n",
        "def get_user_index(prompt, max_index):\n",
        "    while True:\n",
        "        try:\n",
        "            index = int(input(prompt))\n",
        "            if 0 <= index <= max_index:\n",
        "                return index\n",
        "            else:\n",
        "                print(f\"Invalid index. Please enter a number between 0 and {max_index}.\")\n",
        "        except ValueError:\n",
        "            print(\"Invalid input. Please enter a valid integer.\")\n",
        "\n",
        "\n",
        "user_list = get_user_list()\n",
        "max_index = len(user_list) - 1\n",
        "start_index = get_user_index(\"Enter the starting index: \", max_index)\n",
        "end_index = get_user_index(\"Enter the ending index: \", max_index)\n",
        "if start_index > end_index:\n",
        "    print(\"Invalid range. The start index cannot be greater than the end index.\")\n",
        "else:\n",
        "    result = get_sublist(user_list, start_index, end_index)\n",
        "    print(\"Sublist:\", result)"
      ],
      "metadata": {
        "id": "7aetU4_hF6Me"
      },
      "execution_count": null,
      "outputs": []
    },
    {
      "cell_type": "markdown",
      "source": [
        "Write a Python function that reverses a list using slicing.\n",
        "• Requirements:\n",
        "– Define a function reverse list(lst) that takes a list lst and returns a reversed list using\n",
        "slicing.\n",
        "– Example: For the input [1, 2, 3, 4, 5], the output should be [5, 4, 3, 2, 1]."
      ],
      "metadata": {
        "id": "CJJfIbXvHO_W"
      }
    },
    {
      "cell_type": "code",
      "source": [
        "def reverse(lst):\n",
        "    return lst[::-1]\n",
        "\n",
        "def get_user_list():\n",
        "    while True:\n",
        "        try:\n",
        "            user_input = input(\"Enter a list of numbers separated by spaces: \").split()\n",
        "            numbers = [float(num) for num in user_input]\n",
        "            if not numbers:\n",
        "                raise ValueError(\"The list cannot be empty.\")\n",
        "            return numbers\n",
        "        except ValueError:\n",
        "            print(\"Invalid input. Please enter only numbers separated by spaces.\")\n",
        "\n",
        "\n",
        "user_list = get_user_list()\n",
        "result = reverse(user_list)\n",
        "print(\"Every other element:\", result)"
      ],
      "metadata": {
        "colab": {
          "base_uri": "https://localhost:8080/"
        },
        "id": "e8Q8gvXSHOto",
        "outputId": "9880a900-a3e0-4b7a-f9d1-3481dc4b2665"
      },
      "execution_count": null,
      "outputs": [
        {
          "output_type": "stream",
          "name": "stdout",
          "text": [
            "Enter a list of numbers separated by spaces: 1 2 3 4 5\n",
            "Every other element: [5.0, 4.0, 3.0, 2.0, 1.0]\n"
          ]
        }
      ]
    },
    {
      "cell_type": "markdown",
      "source": [
        "Write a Python function that removes the first and last elements of a list and returns the resulting\n",
        "sublist.\n",
        "• Requirements:\n",
        "– Define a function remove first last(lst) that takes a list lst and returns a sublist without\n",
        "the first and last elements using slicing.\n",
        "– Example: For the input [1, 2, 3, 4, 5], the output should be [2, 3, 4]."
      ],
      "metadata": {
        "id": "Nq6BW20fHkhu"
      }
    },
    {
      "cell_type": "code",
      "source": [
        "def split(lst):\n",
        "    if len(lst) <= 2:\n",
        "        return []\n",
        "\n",
        "    return lst[1:-1]\n",
        "\n",
        "\n",
        "def get_user_list():\n",
        "    while True:\n",
        "        try:\n",
        "            user_input = input(\"Enter a list of numbers separated by spaces: \").split()\n",
        "            numbers = [float(num) for num in user_input]\n",
        "            if not numbers:\n",
        "                raise ValueError(\"The list cannot be empty.\")\n",
        "            return numbers\n",
        "        except ValueError:\n",
        "            print(\"Invalid input. Please enter only numbers separated by spaces.\")\n",
        "\n",
        "\n",
        "user_list = get_user_list()\n",
        "result = split(user_list)\n",
        "print(\"list after extraction:\", result)"
      ],
      "metadata": {
        "colab": {
          "base_uri": "https://localhost:8080/"
        },
        "id": "H483DfasHorW",
        "outputId": "b7f76e9a-56a1-4941-b77d-247f060823e5"
      },
      "execution_count": null,
      "outputs": [
        {
          "output_type": "stream",
          "name": "stdout",
          "text": [
            "Enter a list of numbers separated by spaces: 1 2 3 4 5\n",
            "list after extraction: [2.0, 3.0, 4.0]\n"
          ]
        }
      ]
    },
    {
      "cell_type": "markdown",
      "source": [
        "Write a Python function that extracts the first n elements from a list.\n",
        "• Requirements:\n",
        "– Define a function get first n(lst, n) that takes a list lst and an integer n as input and\n",
        "returns the first n elements of the list using slicing.\n",
        "– Example: For the input [1, 2, 3, 4, 5] with n=3, the output should be [1, 2, 3]."
      ],
      "metadata": {
        "id": "FGqnMMEPIJQh"
      }
    },
    {
      "cell_type": "code",
      "source": [
        "def get_first_n(lst, n):\n",
        "    return lst[:n]\n",
        "\n",
        "\n",
        "def get_user_list():\n",
        "    while True:\n",
        "        try:\n",
        "            user_input = input(\"Enter a list of numbers separated by spaces: \").split()\n",
        "            numbers = [float(num) for num in user_input]\n",
        "            if not numbers:\n",
        "                raise ValueError(\"The list cannot be empty.\")\n",
        "            return numbers\n",
        "        except ValueError:\n",
        "            print(\"Invalid input. Please enter only numbers separated by spaces.\")\n",
        "\n",
        "\n",
        "user_list = get_user_list()\n",
        "n= int(input(\"Enter the value of n: \"))\n",
        "result = get_first_n(user_list,n)\n",
        "print(\"list after extraction:\", result)"
      ],
      "metadata": {
        "colab": {
          "base_uri": "https://localhost:8080/"
        },
        "id": "8aFASXx0IN3E",
        "outputId": "736e80a1-ba38-435e-af5e-2da6ff83d0cd"
      },
      "execution_count": null,
      "outputs": [
        {
          "output_type": "stream",
          "name": "stdout",
          "text": [
            "Enter a list of numbers separated by spaces: 1 2 3 4 5\n",
            "Enter the value of n: 3\n",
            "list after extraction: [1.0, 2.0, 3.0]\n"
          ]
        }
      ]
    },
    {
      "cell_type": "markdown",
      "source": [
        "Write a Python function that extracts the last n elements of a list using slicing.\n",
        "• Requirements:\n",
        "– Define a function get last n(lst, n) that takes a list lst and an integer n as input and\n",
        "returns the last n elements of the list.\n",
        "– Example: For the input [1, 2, 3, 4, 5] with n=2, the output should be [4, 5]."
      ],
      "metadata": {
        "id": "iZyhpsgRJOmS"
      }
    },
    {
      "cell_type": "code",
      "source": [
        "def get_last_n(lst, n):\n",
        "    return lst[-n:]\n",
        "\n",
        "\n",
        "def get_user_list():\n",
        "    while True:\n",
        "        try:\n",
        "            user_input = input(\"Enter a list of numbers separated by spaces: \").split()\n",
        "            numbers = [float(num) for num in user_input]\n",
        "            if not numbers:\n",
        "                raise ValueError(\"The list cannot be empty.\")\n",
        "            return numbers\n",
        "        except ValueError:\n",
        "            print(\"Invalid input. Please enter only numbers separated by spaces.\")\n",
        "\n",
        "\n",
        "user_list = get_user_list()\n",
        "n= int(input(\"Enter the value of n: \"))\n",
        "result = get_last_n(user_list,n)\n",
        "print(\"list after extraction:\", result)"
      ],
      "metadata": {
        "id": "4II8M-ZoJVyd"
      },
      "execution_count": null,
      "outputs": []
    },
    {
      "cell_type": "markdown",
      "source": [
        "Write a Python function that extracts a list of elements in reverse order starting from the second-to-last\n",
        "element and skipping one element in between.\n",
        "• Requirements:\n",
        "– Define a function reverse skip(lst) that takes a list lst and returns a new list containing\n",
        "every second element starting from the second-to-last, moving backward.\n",
        "– Example: For the input [1, 2, 3, 4, 5, 6], the output should be [5, 3, 1]."
      ],
      "metadata": {
        "id": "-0jgv_8TJsH5"
      }
    },
    {
      "cell_type": "code",
      "source": [
        "def reverse_skip(lst):\n",
        "    return lst[-2::-2]\n",
        "\n",
        "\n",
        "def get_user_list():\n",
        "    while True:\n",
        "        try:\n",
        "            user_input = input(\"Enter a list of numbers separated by spaces: \").split()\n",
        "            numbers = [float(num) for num in user_input]\n",
        "            if not numbers:\n",
        "                raise ValueError(\"The list cannot be empty.\")\n",
        "            return numbers\n",
        "        except ValueError:\n",
        "            print(\"Invalid input. Please enter only numbers separated by spaces.\")\n",
        "\n",
        "\n",
        "user_list = get_user_list()\n",
        "result = reverse_skip(user_list)\n",
        "print(\"list after extraction:\", result)"
      ],
      "metadata": {
        "colab": {
          "base_uri": "https://localhost:8080/"
        },
        "id": "FvFGVpQXJrkv",
        "outputId": "fd2e8c73-c196-4824-d930-fd6d8ecd14d7"
      },
      "execution_count": null,
      "outputs": [
        {
          "output_type": "stream",
          "name": "stdout",
          "text": [
            "Enter a list of numbers separated by spaces: 1 2 3 4 5\n",
            "list after extraction: [4.0, 2.0]\n"
          ]
        }
      ]
    },
    {
      "cell_type": "markdown",
      "source": [
        "1. Flatten a Nested List:\n",
        "Write a Python function that takes a nested list and flattens it into a single list, where all the elements\n",
        "are in a single dimension.\n",
        "• Requirements:\n",
        "– Define a function flatten(lst) that takes a nested list lst and returns a flattened version\n",
        "of the list.\n",
        "– Example: For the input [[1, 2], [3, 4], [5]], the output should be [1, 2, 3, 4, 5]."
      ],
      "metadata": {
        "id": "m0o_JeGHKfx6"
      }
    },
    {
      "cell_type": "code",
      "source": [
        "def flatten(lst):\n",
        "    flat_list = []\n",
        "    for sublist in lst:\n",
        "        if isinstance(sublist, list):\n",
        "            flat_list.extend(sublist)\n",
        "        else:\n",
        "            flat_list.append(sublist)\n",
        "    return flat_list\n",
        "\n",
        "\n",
        "nested_list = [[1, 2], [3, 4], [5]]\n",
        "result = flatten(nested_list)\n",
        "print(result)"
      ],
      "metadata": {
        "id": "MSD5L41rN_De"
      },
      "execution_count": null,
      "outputs": []
    },
    {
      "cell_type": "markdown",
      "source": [
        "Write a Python function that extracts a specific element from a nested list given its indices.\n",
        "• Requirements:\n",
        "– Define a function access nested element(lst, indices) that takes a nested list lst and\n",
        "a list of indices indices, and returns the element at that position.\n",
        "– Example: For the input lst = [[1, 2, 3], [4, 5, 6], [7, 8, 9]] with indices = [1,\n",
        "2], the output should be 6"
      ],
      "metadata": {
        "id": "HKEM0C8pOIwj"
      }
    },
    {
      "cell_type": "code",
      "source": [
        "def access_nested_element(lst, indices):\n",
        "    try:\n",
        "        for index in indices:\n",
        "            lst = lst[index]\n",
        "        return lst\n",
        "    except (IndexError, TypeError):\n",
        "        return \"Invalid indices or structure.\"\n",
        "\n",
        "\n",
        "nested_list = [[1, 2, 3], [4, 5, 6], [7, 8, 9]]\n",
        "indices = [1, 2]\n",
        "result = access_nested_element(nested_list, indices)\n",
        "print(result)"
      ],
      "metadata": {
        "colab": {
          "base_uri": "https://localhost:8080/"
        },
        "id": "jqWAuf4lOMOb",
        "outputId": "030a1d05-14cf-41bc-db4e-a184fe02979b"
      },
      "execution_count": null,
      "outputs": [
        {
          "output_type": "stream",
          "name": "stdout",
          "text": [
            "6\n"
          ]
        }
      ]
    },
    {
      "cell_type": "markdown",
      "source": [
        "Write a Python function that calculates the sum of all the numbers in a nested list (regardless of depth).\n",
        "• Requirements:\n",
        "– Define a function sum nested(lst) that takes a nested list lst and returns the sum of all\n",
        "the elements.\n",
        "– Example: For the input [[1, 2], [3, [4, 5]], 6], the output should be 21."
      ],
      "metadata": {
        "id": "rnJlEGAjOjt0"
      }
    },
    {
      "cell_type": "code",
      "source": [
        "def sum_nested(lst):\n",
        "    total = 0\n",
        "    for item in lst:\n",
        "        if isinstance(item, list):\n",
        "            total += sum_nested(item)\n",
        "        elif isinstance(item, (int, float)):\n",
        "            total += item\n",
        "    return total\n",
        "\n",
        "\n",
        "nested_list = [[1, 2], [3, [4, 5]], 6]\n",
        "result = sum_nested(nested_list)\n",
        "print(result)"
      ],
      "metadata": {
        "id": "IzRjMHc7Oluf"
      },
      "execution_count": null,
      "outputs": []
    },
    {
      "cell_type": "markdown",
      "source": [
        "Write a Python function that removes all occurrences of a specific element from a nested list.\n",
        "• Requirements:\n",
        "– Define a function remove element(lst, elem) that removes elem from lst and returns the\n",
        "modified list.\n",
        "– Example: For the input lst = [[1, 2], [3, 2], [4, 5]] and elem = 2, the output should\n",
        "be [[1], [3], [4, 5]]."
      ],
      "metadata": {
        "id": "w4VN_AVqOvzy"
      }
    },
    {
      "cell_type": "code",
      "source": [
        "def remove_element(lst, elem):\n",
        "    result = []\n",
        "    for item in lst:\n",
        "        if isinstance(item, list):\n",
        "            cleaned_sublist = remove_element(item, elem)\n",
        "            if cleaned_sublist:\n",
        "                result.append(cleaned_sublist)\n",
        "        elif item != elem:\n",
        "            result.append(item)\n",
        "    return result\n",
        "\n",
        "\n",
        "nested_list = [[1, 2], [3, 2], [4, 5]]\n",
        "element_to_remove = 2\n",
        "result = remove_element(nested_list, element_to_remove)\n",
        "print(result)"
      ],
      "metadata": {
        "id": "5XLek2YhOx8x"
      },
      "execution_count": null,
      "outputs": []
    },
    {
      "cell_type": "markdown",
      "source": [
        "Write a Python function that finds the maximum element in a nested list (regardless of depth).\n",
        "• Requirements:\n",
        "– Define a function find max(lst) that takes a nested list lst and returns the maximum\n",
        "element.\n",
        "– Example: For the input [[1, 2], [3, [4, 5]], 6], the output should be 6."
      ],
      "metadata": {
        "id": "uZ_QvZGiO-dT"
      }
    },
    {
      "cell_type": "code",
      "source": [
        "def find_max(lst):\n",
        "    max_value = 0\n",
        "\n",
        "    for item in lst:\n",
        "        if isinstance(item, list):\n",
        "            max_value = max(max_value, find_max(item))\n",
        "        elif isinstance(item, (int, float)):\n",
        "            max_value = max(max_value, item)\n",
        "\n",
        "    return max_value\n",
        "\n",
        "\n",
        "nested_list = [[1, 2], [3, [4, 5]], 6]\n",
        "result = find_max(nested_list)\n",
        "print(result)"
      ],
      "metadata": {
        "colab": {
          "base_uri": "https://localhost:8080/"
        },
        "id": "BPDDlHdTPCFE",
        "outputId": "1b3044f7-ffb2-41bf-eec0-7d22a291c3ef"
      },
      "execution_count": null,
      "outputs": [
        {
          "output_type": "stream",
          "name": "stdout",
          "text": [
            "6\n"
          ]
        }
      ]
    },
    {
      "cell_type": "markdown",
      "source": [
        "Write a Python function that counts how many times a specific element appears in a nested list.\n",
        "• Requirements:\n",
        "– Define a function count occurrences(lst, elem) that counts the occurrences of elem in\n",
        "the nested list lst.\n",
        "– Example: For the input lst = [[1, 2], [2, 3], [2, 4]] and elem = 2, the output should\n",
        "be 3."
      ],
      "metadata": {
        "id": "AIEl6auwPVOn"
      }
    },
    {
      "cell_type": "code",
      "source": [
        "def count_occurrences(lst, elem):\n",
        "    count = 0\n",
        "    for item in lst:\n",
        "        if isinstance(item, list):\n",
        "            count += count_occurrences(item, elem)\n",
        "        elif item == elem:\n",
        "            count += 1\n",
        "    return count\n",
        "\n",
        "\n",
        "nested_list = [[1, 2], [2, 3], [2, 4]]\n",
        "element_to_count = 2\n",
        "result = count_occurrences(nested_list, element_to_count)\n",
        "print(result)"
      ],
      "metadata": {
        "colab": {
          "base_uri": "https://localhost:8080/"
        },
        "id": "7rHLXdGPPXbf",
        "outputId": "10bf20a6-e7b3-4f0e-b57e-372e733fcd48"
      },
      "execution_count": null,
      "outputs": [
        {
          "output_type": "stream",
          "name": "stdout",
          "text": [
            "3\n"
          ]
        }
      ]
    },
    {
      "cell_type": "markdown",
      "source": [
        "Write a Python function that flattens a list of lists of lists into a single list, regardless of the depth.\n",
        "• Requirements:\n",
        "– Define a function deep flatten(lst) that takes a deeply nested list lst and returns a single\n",
        "flattened list.\n",
        "– Example: For the input [[[1, 2], [3, 4]], [[5, 6], [7, 8]]], the output should be\n",
        "[1, 2, 3, 4, 5, 6, 7, 8]."
      ],
      "metadata": {
        "id": "sLBgi8vQPlW5"
      }
    },
    {
      "cell_type": "code",
      "source": [
        "def deep_flatten(lst):\n",
        "    flattened = []\n",
        "\n",
        "    for item in lst:\n",
        "        if isinstance(item, list):\n",
        "            flattened.extend(deep_flatten(item))\n",
        "        else:\n",
        "            flattened.append(item)\n",
        "\n",
        "    return flattened\n",
        "\n",
        "nested_list = [[[1, 2], [3, 4]], [[5, 6], [7, 8]]]\n",
        "result = deep_flatten(nested_list)\n",
        "print(result)"
      ],
      "metadata": {
        "id": "0OapVLg3PnY2"
      },
      "execution_count": null,
      "outputs": []
    },
    {
      "cell_type": "markdown",
      "source": [
        "Write a Python function that calculates the average of all elements in a nested list.\n",
        "• Requirements:\n",
        "– Define a function average nested(lst) that takes a nested list lst and returns the average\n",
        "of all the elements.\n",
        "– Example: For the input [[1, 2], [3, 4], [5, 6]], the output should be 3.5."
      ],
      "metadata": {
        "id": "BSG5C6q1PymC"
      }
    },
    {
      "cell_type": "code",
      "source": [
        "def average_nested(lst):\n",
        "    def flatten_and_sum(lst):\n",
        "        total = 0\n",
        "        count = 0\n",
        "        for item in lst:\n",
        "            if isinstance(item, list):\n",
        "                sub_total, sub_count = flatten_and_sum(item)\n",
        "                total += sub_total\n",
        "                count += sub_count\n",
        "            elif isinstance(item, (int, float)):\n",
        "                total += item\n",
        "                count += 1\n",
        "        return total, count\n",
        "\n",
        "    total, count = flatten_and_sum(lst)\n",
        "\n",
        "    return total / count\n",
        "     if count > 0 else 0\n",
        "\n",
        "\n",
        "nested_list = [[1, 2], [3, 4], [5, 6]]\n",
        "result = average_nested(nested_list)\n",
        "print(result)"
      ],
      "metadata": {
        "id": "zwNbR9MPP0bO"
      },
      "execution_count": null,
      "outputs": []
    },
    {
      "cell_type": "markdown",
      "source": [
        "10.1 Basic Vector and Matrix Operation with Numpy.\n",
        "Problem - 1: Array Creation:\n",
        "Complete the following Tasks:\n",
        "1. Initialize an empty array with size 2X2.\n",
        "2. Initialize an all one array with size 4X2.\n",
        "3. Return a new array of given shape and type, filled with fill value.{Hint: np.full}\n",
        "4. Return a new array of zeros with same shape and type as a given array.{Hint: np.zeros like}\n",
        "5. Return a new array of ones with same shape and type as a given array.{Hint: np.ones like}\n",
        "6. For an existing list new_list = [1,2,3,4] convert to an numpy array.{Hint: np.array()}"
      ],
      "metadata": {
        "id": "rB2QIUY-VRbq"
      }
    },
    {
      "cell_type": "code",
      "source": [
        "import numpy as np"
      ],
      "metadata": {
        "id": "JL9oIr17XPLE"
      },
      "execution_count": null,
      "outputs": []
    },
    {
      "cell_type": "code",
      "source": [
        "\n",
        "empty_array = np.empty((2, 2))\n",
        "print(\"Empty array (2x2):\\n\", empty_array)\n",
        "\n",
        "ones_array = np.ones((4, 2))\n",
        "print(\"All ones array (4x2):\\n\", ones_array)\n",
        "\n",
        "fill_value_array = np.full((3, 3), 7)\n",
        "print(\"Array filled with 7 (3x3):\\n\", fill_value_array)\n",
        "\n",
        "reference_array = np.array([[4, 5, 6], [7, 8, 9]])\n",
        "zeros_like_array = np.zeros_like(reference_array)\n",
        "print(\"Zeros array with same shape as reference array:\\n\", zeros_like_array)\n",
        "\n",
        "ones_like_array = np.ones_like(reference_array)\n",
        "print(\"Ones array with same shape as reference array:\\n\", ones_like_array)\n",
        "\n",
        "new_list = [1, 2, 3, 4]\n",
        "numpy_array = np.array(new_list)\n",
        "print(\"Converted NumPy array from list:\\n\", numpy_array)"
      ],
      "metadata": {
        "colab": {
          "base_uri": "https://localhost:8080/"
        },
        "id": "xHtGM2QLVWZV",
        "outputId": "1345dd6b-0b01-4f18-c98c-f35cfaabdac1"
      },
      "execution_count": null,
      "outputs": [
        {
          "output_type": "stream",
          "name": "stdout",
          "text": [
            "Empty array (2x2):\n",
            " [[2.70201814e-316 0.00000000e+000]\n",
            " [6.80619306e-310 6.80619465e-310]]\n",
            "All ones array (4x2):\n",
            " [[1. 1.]\n",
            " [1. 1.]\n",
            " [1. 1.]\n",
            " [1. 1.]]\n",
            "Array filled with 7 (3x3):\n",
            " [[7 7 7]\n",
            " [7 7 7]\n",
            " [7 7 7]]\n",
            "Zeros array with same shape as reference array:\n",
            " [[0 0 0]\n",
            " [0 0 0]]\n",
            "Ones array with same shape as reference array:\n",
            " [[1 1 1]\n",
            " [1 1 1]]\n",
            "Converted NumPy array from list:\n",
            " [1 2 3 4]\n"
          ]
        }
      ]
    },
    {
      "cell_type": "markdown",
      "source": [
        "Problem - 2: Array Manipulation: Numerical Ranges and Array indexing:\n",
        "Complete the following tasks:\n",
        "1. Create an array with values ranging from 10 to 49. {Hint:np.arrange()}.\n",
        "2. Create a 3X3 matrix with values ranging from 0 to 8.\n",
        "{Hint:look for np.reshape()}\n",
        "3. Create a 3X3 identity matrix.{Hint:np.eye()}\n",
        "4. Create a random array of size 30 and find the mean of the array.\n",
        "{Hint:check for np.random.random() and array.mean() function}\n",
        "5. Create a 10X10 array with random values and find the minimum and maximum values.\n",
        "6. Create a zero array of size 10 and replace 5th element with 1.\n",
        "7. Reverse an array arr = [1,2,0,0,4,0].\n",
        "8. Create a 2d array with 1 on border and 0 inside.\n",
        "9. Create a 8X8 matrix and fill it with a checkerboard pattern."
      ],
      "metadata": {
        "id": "0pMlW4P0Vw5c"
      }
    },
    {
      "cell_type": "code",
      "source": [
        "array_10_to_49 = np.arange(10, 50)\n",
        "print(\"1. Array from 10 to 49:\\n\", array_10_to_49)\n",
        "\n",
        "matrix_3x3 = np.arange(9).reshape(3, 3)\n",
        "print(\"\\n2. 3x3 matrix (0 to 8):\\n\", matrix_3x3)\n",
        "\n",
        "identity_matrix = np.eye(3)\n",
        "print(\"\\n3. 3x3 Identity matrix:\\n\", identity_matrix)\n",
        "\n",
        "random_array = np.random.random(30)\n",
        "mean_value = random_array.mean()\n",
        "print(\"\\n4. Random array mean:\\n\", mean_value)\n",
        "\n",
        "random_10x10 = np.random.random((10, 10))\n",
        "min_value = random_10x10.min()\n",
        "max_value = random_10x10.max()\n",
        "print(\"\\n5. Min & Max of 10x10 array:\\nMin:\", min_value, \"Max:\", max_value)\n",
        "\n",
        "zero_array = np.zeros(10)\n",
        "zero_array[4] = 1\n",
        "print(\"\\n6. Zero array with 5th element as 1:\\n\", zero_array)\n",
        "\n",
        "arr = np.array([1, 2, 0, 0, 4, 0])\n",
        "reversed_arr = arr[::-1]\n",
        "print(\"\\n7. Reversed array:\\n\", reversed_arr)\n",
        "\n",
        "border_array = np.ones((5, 5))\n",
        "border_array[1:-1, 1:-1] = 0\n",
        "print(\"\\n8. 2D array with border 1 and inside 0:\\n\", border_array)\n",
        "\n",
        "checkerboard = np.zeros((8, 8), dtype=int)\n",
        "checkerboard[1::2, ::2] = 1\n",
        "checkerboard[::2, 1::2] = 1\n",
        "print(\"\\n9. 8x8 Checkerboard pattern:\\n\", checkerboard)"
      ],
      "metadata": {
        "colab": {
          "base_uri": "https://localhost:8080/"
        },
        "id": "4xstzZxLV6lf",
        "outputId": "abc0867e-4da5-48e2-c28b-adf8e2afc4e8"
      },
      "execution_count": null,
      "outputs": [
        {
          "output_type": "stream",
          "name": "stdout",
          "text": [
            "1. Array from 10 to 49:\n",
            " [10 11 12 13 14 15 16 17 18 19 20 21 22 23 24 25 26 27 28 29 30 31 32 33\n",
            " 34 35 36 37 38 39 40 41 42 43 44 45 46 47 48 49]\n",
            "\n",
            "2. 3x3 matrix (0 to 8):\n",
            " [[0 1 2]\n",
            " [3 4 5]\n",
            " [6 7 8]]\n",
            "\n",
            "3. 3x3 Identity matrix:\n",
            " [[1. 0. 0.]\n",
            " [0. 1. 0.]\n",
            " [0. 0. 1.]]\n",
            "\n",
            "4. Random array mean:\n",
            " 0.4391737998335748\n",
            "\n",
            "5. Min & Max of 10x10 array:\n",
            "Min: 0.0048646535727638884 Max: 0.992501780096082\n",
            "\n",
            "6. Zero array with 5th element as 1:\n",
            " [0. 0. 0. 0. 1. 0. 0. 0. 0. 0.]\n",
            "\n",
            "7. Reversed array:\n",
            " [0 4 0 0 2 1]\n",
            "\n",
            "8. 2D array with border 1 and inside 0:\n",
            " [[1. 1. 1. 1. 1.]\n",
            " [1. 0. 0. 0. 1.]\n",
            " [1. 0. 0. 0. 1.]\n",
            " [1. 0. 0. 0. 1.]\n",
            " [1. 1. 1. 1. 1.]]\n",
            "\n",
            "9. 8x8 Checkerboard pattern:\n",
            " [[0 1 0 1 0 1 0 1]\n",
            " [1 0 1 0 1 0 1 0]\n",
            " [0 1 0 1 0 1 0 1]\n",
            " [1 0 1 0 1 0 1 0]\n",
            " [0 1 0 1 0 1 0 1]\n",
            " [1 0 1 0 1 0 1 0]\n",
            " [0 1 0 1 0 1 0 1]\n",
            " [1 0 1 0 1 0 1 0]]\n"
          ]
        }
      ]
    },
    {
      "cell_type": "markdown",
      "source": [
        "For the following arrays:\n",
        "x = np.array([[1,2],[3,5]]) and y = np.array([[5,6],[7,8]]);\n",
        "v = np.array([9,10]) and w = np.array([11,12]);\n",
        "Complete all the task using numpy:\n",
        "1. Add the two array.\n",
        "2. Subtract the two array.\n",
        "3. Multiply the array with any integers of your choice.\n",
        "4. Find the square of each element of the array.\n",
        "5. Find the dot product between: v(and)w ; x(and)v ; x(and)y.\n",
        "6. Concatenate x(and)y along row and Concatenate v(and)w along column.\n",
        "{Hint:try np.concatenate() or np.vstack() functions.\n",
        "7. Concatenate x(and)v; if you get an error, observe and explain why did you get the error?"
      ],
      "metadata": {
        "id": "o2p7hC2EWZql"
      }
    },
    {
      "cell_type": "code",
      "source": [
        "\n",
        "x = np.array([[1, 2], [3, 5]])\n",
        "y = np.array([[5, 6], [7, 8]])\n",
        "v = np.array([9, 10])\n",
        "w = np.array([11, 12])\n",
        "\n",
        "add_xy = x + y\n",
        "print(\"1. Addition of x and y:\\n\", add_xy)\n",
        "\n",
        "sub_xy = x - y\n",
        "print(\"\\n2. Subtraction of x and y:\\n\", sub_xy)\n",
        "\n",
        "mul_x = x * 3\n",
        "print(\"\\n3. Multiplication of x by 3:\\n\", mul_x)\n",
        "\n",
        "square_x = np.square(x)\n",
        "print(\"\\n4. Square of each element in x:\\n\", square_x)\n",
        "\n",
        "dot_vw = np.dot(v, w)\n",
        "dot_xv = np.dot(x, v)\n",
        "dot_xy = np.dot(x, y)\n",
        "\n",
        "print(\"\\n5. Dot Product Results:\")\n",
        "print(\"Dot product of v and w:\", dot_vw)\n",
        "print(\"Dot product of x and v:\\n\", dot_xv)\n",
        "print(\"Dot product of x and y:\\n\", dot_xy)\n",
        "\n",
        "concat_xy = np.concatenate((x, y), axis=0)\n",
        "print(\"\\n6. Concatenation of x and y along rows:\\n\", concat_xy)\n",
        "\n",
        "concat_vw = np.vstack((v, w))\n",
        "print(\"\\nConcatenation of v and w along columns:\\n\", concat_vw)\n",
        "\n",
        "try:\n",
        "    concat_xv = np.concatenate((x, v), axis=0)\n",
        "    print(\"\\n7. Concatenation of x and v:\\n\", concat_xv)\n",
        "except ValueError as e:\n",
        "    print(\"\\n7. Error when concatenating x and v:\\n\", e)"
      ],
      "metadata": {
        "id": "-qGdNWjmWb88"
      },
      "execution_count": null,
      "outputs": []
    },
    {
      "cell_type": "markdown",
      "source": [
        "• For the following arrays:\n",
        "A = np.array([[3,4],[7,8]]) and B = np.array([[5,3],[2,1]]);\n",
        "Prove following with Numpy:\n",
        "1. Prove A.A−1\n",
        "= I.\n",
        "2. Prove AB ̸= BA.\n",
        "3. Prove (AB)T\n",
        "= BT AT\n",
        ".\n",
        "• Solve the following system of Linear equation using Inverse Methods.\n",
        "2x−3y + z =−1\n",
        "x−y + 2z =−3\n",
        "3x + y−z = 9\n",
        "{Hint: First use Numpy array to represent the equation in Matrix form. Then Solve for: AX= B}\n",
        "• Now: solve the above equation using np.linalg.inv function.{Explore more about ”linalg” func-\n",
        "tion of Numpy}"
      ],
      "metadata": {
        "id": "uS25VTD6Wtjk"
      }
    },
    {
      "cell_type": "code",
      "source": [
        "A = np.array([[3, 4], [7, 8]])\n",
        "\n",
        "A_inv = np.linalg.inv(A)\n",
        "\n",
        "A_Ainv = np.dot(A, A_inv)\n",
        "\n",
        "\n",
        "print(\"1. A * A_inv = Identity Matrix:\")\n",
        "print(A_Ainv)"
      ],
      "metadata": {
        "colab": {
          "base_uri": "https://localhost:8080/"
        },
        "id": "BqM83BtVWxha",
        "outputId": "f4fc043f-c3c2-4920-9235-a6c82f925f71"
      },
      "execution_count": null,
      "outputs": [
        {
          "output_type": "stream",
          "name": "stdout",
          "text": [
            "1. A * A_inv = Identity Matrix:\n",
            "[[1.00000000e+00 0.00000000e+00]\n",
            " [1.77635684e-15 1.00000000e+00]]\n"
          ]
        }
      ]
    },
    {
      "cell_type": "code",
      "source": [
        "B = np.array([[5, 3], [2, 1]])\n",
        "\n",
        "AB = np.dot(A, B)\n",
        "BA = np.dot(B, A)\n",
        "\n",
        "print(\"AB =\\n\", AB)\n",
        "print(\"\\nBA =\\n\", BA)\n",
        "print(\"\\nAB == BA:\", np.array_equal(AB, BA))"
      ],
      "metadata": {
        "colab": {
          "base_uri": "https://localhost:8080/"
        },
        "id": "sDweKb9MXBex",
        "outputId": "31ffea76-197d-4263-cb08-e5ec9272b7f8"
      },
      "execution_count": null,
      "outputs": [
        {
          "output_type": "stream",
          "name": "stdout",
          "text": [
            "AB =\n",
            " [[23 13]\n",
            " [51 29]]\n",
            "\n",
            "BA =\n",
            " [[36 44]\n",
            " [13 16]]\n",
            "\n",
            "AB == BA: False\n"
          ]
        }
      ]
    },
    {
      "cell_type": "code",
      "source": [
        "AB_T = np.transpose(AB)\n",
        "\n",
        "A_T = np.transpose(A)\n",
        "B_T = np.transpose(B)\n",
        "\n",
        "BT_AT = np.dot(B_T, A_T)\n",
        "\n",
        "print(\"(AB)_t:\\n\", AB_T)\n",
        "print(\"\\n(B_t * A_t):\\n\", BT_AT)\n",
        "print(\"\\n(AB)_t == (B_t * A_t):\", np.allclose(AB_T, BT_AT))"
      ],
      "metadata": {
        "colab": {
          "base_uri": "https://localhost:8080/"
        },
        "id": "Kd0R7oHQXHYo",
        "outputId": "b79a184f-9b59-4f2b-e58b-3e38a1bd4275"
      },
      "execution_count": null,
      "outputs": [
        {
          "output_type": "stream",
          "name": "stdout",
          "text": [
            "(AB)_t:\n",
            " [[23 51]\n",
            " [13 29]]\n",
            "\n",
            "(B_t * A_t):\n",
            " [[23 51]\n",
            " [13 29]]\n",
            "\n",
            "(AB)_t == (B_t * A_t): True\n"
          ]
        }
      ]
    },
    {
      "cell_type": "code",
      "source": [
        "A = np.array([[2, -3, 1], [1, -1, 2], [3, 1, -1]])\n",
        "\n",
        "B = np.array([-1, -3, 9])\n",
        "\n",
        "A_inv = np.linalg.inv(A)\n",
        "\n",
        "X = np.dot(A_inv, B)\n",
        "\n",
        "print(\"Solution for [x, y, z]:\", X)"
      ],
      "metadata": {
        "colab": {
          "base_uri": "https://localhost:8080/"
        },
        "id": "0UfpH1jSX_LN",
        "outputId": "364a3e0b-ab25-40d9-e7c8-d43502f3e34c"
      },
      "execution_count": null,
      "outputs": [
        {
          "output_type": "stream",
          "name": "stdout",
          "text": [
            "Solution for [x, y, z]: [ 2.  1. -2.]\n"
          ]
        }
      ]
    }
  ],
  "metadata": {
    "colab": {
      "provenance": []
    },
    "kernelspec": {
      "display_name": "Python 3",
      "name": "python3"
    },
    "language_info": {
      "name": "python"
    }
  },
  "nbformat": 4,
  "nbformat_minor": 0
}